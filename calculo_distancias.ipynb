{
 "cells": [
  {
   "cell_type": "code",
   "execution_count": 6,
   "metadata": {},
   "outputs": [],
   "source": [
    "import pandas as pd\n",
    "import numpy as np\n",
    "\n",
    "from itertools import combinations\n",
    "from math import radians, sin, cos, sqrt, atan2"
   ]
  },
  {
   "cell_type": "code",
   "execution_count": 4,
   "metadata": {},
   "outputs": [],
   "source": [
    "# Importacao da base de dados contendo a latitude e a longitude de cada municipio\n",
    "\n",
    "tabela = pd.read_csv('municipios.csv')"
   ]
  },
  {
   "cell_type": "code",
   "execution_count": 5,
   "metadata": {},
   "outputs": [
    {
     "data": {
      "text/html": [
       "<div>\n",
       "<style scoped>\n",
       "    .dataframe tbody tr th:only-of-type {\n",
       "        vertical-align: middle;\n",
       "    }\n",
       "\n",
       "    .dataframe tbody tr th {\n",
       "        vertical-align: top;\n",
       "    }\n",
       "\n",
       "    .dataframe thead th {\n",
       "        text-align: right;\n",
       "    }\n",
       "</style>\n",
       "<table border=\"1\" class=\"dataframe\">\n",
       "  <thead>\n",
       "    <tr style=\"text-align: right;\">\n",
       "      <th></th>\n",
       "      <th>codigo_ibge</th>\n",
       "      <th>latitude</th>\n",
       "      <th>longitude</th>\n",
       "      <th>capital</th>\n",
       "      <th>codigo_uf</th>\n",
       "      <th>siafi_id</th>\n",
       "      <th>ddd</th>\n",
       "    </tr>\n",
       "  </thead>\n",
       "  <tbody>\n",
       "    <tr>\n",
       "      <th>0</th>\n",
       "      <td>5200050</td>\n",
       "      <td>-16.75730</td>\n",
       "      <td>-49.4412</td>\n",
       "      <td>0</td>\n",
       "      <td>52</td>\n",
       "      <td>1050</td>\n",
       "      <td>62</td>\n",
       "    </tr>\n",
       "    <tr>\n",
       "      <th>1</th>\n",
       "      <td>3100104</td>\n",
       "      <td>-18.48310</td>\n",
       "      <td>-47.3916</td>\n",
       "      <td>0</td>\n",
       "      <td>31</td>\n",
       "      <td>4001</td>\n",
       "      <td>34</td>\n",
       "    </tr>\n",
       "    <tr>\n",
       "      <th>2</th>\n",
       "      <td>5200100</td>\n",
       "      <td>-16.19700</td>\n",
       "      <td>-48.7057</td>\n",
       "      <td>0</td>\n",
       "      <td>52</td>\n",
       "      <td>9201</td>\n",
       "      <td>62</td>\n",
       "    </tr>\n",
       "    <tr>\n",
       "      <th>3</th>\n",
       "      <td>3100203</td>\n",
       "      <td>-19.15510</td>\n",
       "      <td>-45.4444</td>\n",
       "      <td>0</td>\n",
       "      <td>31</td>\n",
       "      <td>4003</td>\n",
       "      <td>37</td>\n",
       "    </tr>\n",
       "    <tr>\n",
       "      <th>4</th>\n",
       "      <td>1500107</td>\n",
       "      <td>-1.72183</td>\n",
       "      <td>-48.8788</td>\n",
       "      <td>0</td>\n",
       "      <td>15</td>\n",
       "      <td>401</td>\n",
       "      <td>91</td>\n",
       "    </tr>\n",
       "  </tbody>\n",
       "</table>\n",
       "</div>"
      ],
      "text/plain": [
       "   codigo_ibge  latitude  longitude  capital  codigo_uf  siafi_id  ddd\n",
       "0      5200050 -16.75730   -49.4412        0         52      1050   62\n",
       "1      3100104 -18.48310   -47.3916        0         31      4001   34\n",
       "2      5200100 -16.19700   -48.7057        0         52      9201   62\n",
       "3      3100203 -19.15510   -45.4444        0         31      4003   37\n",
       "4      1500107  -1.72183   -48.8788        0         15       401   91"
      ]
     },
     "execution_count": 5,
     "metadata": {},
     "output_type": "execute_result"
    }
   ],
   "source": [
    "tabela.head()"
   ]
  },
  {
   "cell_type": "code",
   "execution_count": 7,
   "metadata": {},
   "outputs": [],
   "source": [
    "# Funcao para converter coordenadas de latitude e longitude para cartesianas\n",
    "\n",
    "def lat_long_to_cartesiana(lat, lon):\n",
    "    R = 6371 # Raio medio da Terra em quilometros\n",
    "    x = R * np.cos(np.radians(lat)) * np.cos(np.radians(lon))\n",
    "    y = R * np.cos(np.radians(lat)) * np.sin(np.radians(lon))\n",
    "    z = R * np.sin(np.radians(lat))\n",
    "\n",
    "    return x,y,z"
   ]
  },
  {
   "cell_type": "code",
   "execution_count": 9,
   "metadata": {},
   "outputs": [
    {
     "name": "stdout",
     "output_type": "stream",
     "text": [
      "      codigo_ibge  latitude  longitude  capital  codigo_uf  siafi_id  ddd  \\\n",
      "0         5200050 -16.75730   -49.4412        0         52      1050   62   \n",
      "1         3100104 -18.48310   -47.3916        0         31      4001   34   \n",
      "2         5200100 -16.19700   -48.7057        0         52      9201   62   \n",
      "3         3100203 -19.15510   -45.4444        0         31      4003   37   \n",
      "4         1500107  -1.72183   -48.8788        0         15       401   91   \n",
      "...           ...       ...        ...      ...        ...       ...  ...   \n",
      "5565      2933604 -10.82300   -42.7245        0         29      3971   74   \n",
      "5566      2517407  -8.07901   -37.1057        0         25       542   83   \n",
      "5567      3557154 -21.05060   -50.0552        0         35      2973   18   \n",
      "5568      2114007  -3.27014   -45.6553        0         21      1287   98   \n",
      "5569      4219853 -27.45210   -51.5520        0         42       950   49   \n",
      "\n",
      "                x            y            z  \n",
      "0     3966.685915 -4634.752587 -1836.875692  \n",
      "1     4090.584393 -4447.168365 -2019.765794  \n",
      "2     4037.514851 -4596.728913 -1777.131995  \n",
      "3     4222.419033 -4288.432592 -2090.493821  \n",
      "4     4188.021993 -4797.235388  -191.429944  \n",
      "...           ...          ...          ...  \n",
      "5565  4597.039687 -4245.667120 -1196.318442  \n",
      "5566  5030.596759 -3805.397224  -895.370992  \n",
      "5567  3817.510930 -4558.444070 -2288.414072  \n",
      "5568  4445.908552 -4548.786650  -363.425591  \n",
      "5569  3515.433833 -4427.748486 -2937.074958  \n",
      "\n",
      "[5570 rows x 10 columns]\n"
     ]
    }
   ],
   "source": [
    "df = pd.DataFrame(tabela)\n",
    "\n",
    "# Aplicar a função de conversão para obter as coordenadas cartesianas\n",
    "df['x'], df['y'], df['z'] = lat_long_to_cartesiana(df['latitude'], df['longitude'])\n",
    "\n",
    "# Exibindo o DataFrame com as coordenadas cartesianas\n",
    "print(df)"
   ]
  },
  {
   "cell_type": "code",
   "execution_count": 10,
   "metadata": {},
   "outputs": [],
   "source": [
    "# Função para calcular a distância Haversine entre dois pares de latitude e longitude\n",
    "def haversine(lat1, lon1, lat2, lon2):\n",
    "    # Convert latitude and longitude from degrees to radians\n",
    "    lat1, lon1, lat2, lon2 = map(radians, [lat1, lon1, lat2, lon2])\n",
    "\n",
    "    # Haversine formula\n",
    "    dlon = lon2 - lon1\n",
    "    dlat = lat2 - lat1\n",
    "    a = sin(dlat / 2) ** 2 + cos(lat1) * cos(lat2) * sin(dlon / 2) ** 2\n",
    "    c = 2 * atan2(sqrt(a), sqrt(1 - a))\n",
    "    distance = 6371 * c  # Earth radius in kilometers\n",
    "    return distance\n"
   ]
  },
  {
   "cell_type": "code",
   "execution_count": 21,
   "metadata": {},
   "outputs": [],
   "source": [
    "# Lista para armazenar as distâncias entre as cidades\n",
    "distances = []\n",
    "\n",
    "# Calcular a distância entre cada par de cidades\n",
    "for codigo_ibge_1, codigo_ibge_2 in combinations(df.index, 2):\n",
    "    lat1, lon1 = df.loc[codigo_ibge_1, ['latitude', 'longitude']]\n",
    "    lat2, lon2 = df.loc[codigo_ibge_2, ['latitude', 'longitude']]\n",
    "    distance = haversine(lat1, lon1, lat2, lon2)\n",
    "    distances.append((codigo_ibge_1, codigo_ibge_2, distance))\n",
    "\n",
    "# Criar DataFrame com as distâncias calculadas\n",
    "distances_df_2 = pd.DataFrame(distances, columns=['City1', 'City2', 'Distance (km)'])\n",
    "print(distances_df_2)\n"
   ]
  },
  {
   "cell_type": "code",
   "execution_count": 14,
   "metadata": {},
   "outputs": [],
   "source": [
    "distances_df_2.to_csv('base_distancias_geral.csv')"
   ]
  },
  {
   "cell_type": "code",
   "execution_count": 19,
   "metadata": {},
   "outputs": [
    {
     "data": {
      "text/html": [
       "<div>\n",
       "<style scoped>\n",
       "    .dataframe tbody tr th:only-of-type {\n",
       "        vertical-align: middle;\n",
       "    }\n",
       "\n",
       "    .dataframe tbody tr th {\n",
       "        vertical-align: top;\n",
       "    }\n",
       "\n",
       "    .dataframe thead th {\n",
       "        text-align: right;\n",
       "    }\n",
       "</style>\n",
       "<table border=\"1\" class=\"dataframe\">\n",
       "  <thead>\n",
       "    <tr style=\"text-align: right;\">\n",
       "      <th></th>\n",
       "      <th>City1</th>\n",
       "      <th>City2</th>\n",
       "      <th>Distance (km)</th>\n",
       "    </tr>\n",
       "  </thead>\n",
       "  <tbody>\n",
       "    <tr>\n",
       "      <th>0</th>\n",
       "      <td>0</td>\n",
       "      <td>1</td>\n",
       "      <td>289.830897</td>\n",
       "    </tr>\n",
       "    <tr>\n",
       "      <th>1</th>\n",
       "      <td>0</td>\n",
       "      <td>2</td>\n",
       "      <td>100.160142</td>\n",
       "    </tr>\n",
       "    <tr>\n",
       "      <th>2</th>\n",
       "      <td>0</td>\n",
       "      <td>3</td>\n",
       "      <td>499.787149</td>\n",
       "    </tr>\n",
       "    <tr>\n",
       "      <th>3</th>\n",
       "      <td>0</td>\n",
       "      <td>4</td>\n",
       "      <td>1672.999956</td>\n",
       "    </tr>\n",
       "    <tr>\n",
       "      <th>4</th>\n",
       "      <td>0</td>\n",
       "      <td>5</td>\n",
       "      <td>1539.696725</td>\n",
       "    </tr>\n",
       "    <tr>\n",
       "      <th>...</th>\n",
       "      <td>...</td>\n",
       "      <td>...</td>\n",
       "      <td>...</td>\n",
       "    </tr>\n",
       "    <tr>\n",
       "      <th>15509660</th>\n",
       "      <td>5566</td>\n",
       "      <td>5568</td>\n",
       "      <td>1086.421409</td>\n",
       "    </tr>\n",
       "    <tr>\n",
       "      <th>15509661</th>\n",
       "      <td>5566</td>\n",
       "      <td>5569</td>\n",
       "      <td>2636.324098</td>\n",
       "    </tr>\n",
       "    <tr>\n",
       "      <th>15509662</th>\n",
       "      <td>5567</td>\n",
       "      <td>5568</td>\n",
       "      <td>2033.605580</td>\n",
       "    </tr>\n",
       "    <tr>\n",
       "      <th>15509663</th>\n",
       "      <td>5567</td>\n",
       "      <td>5569</td>\n",
       "      <td>727.783339</td>\n",
       "    </tr>\n",
       "    <tr>\n",
       "      <th>15509664</th>\n",
       "      <td>5568</td>\n",
       "      <td>5569</td>\n",
       "      <td>2760.915335</td>\n",
       "    </tr>\n",
       "  </tbody>\n",
       "</table>\n",
       "<p>15509665 rows × 3 columns</p>\n",
       "</div>"
      ],
      "text/plain": [
       "         City1 City2  Distance (km)\n",
       "0            0     1     289.830897\n",
       "1            0     2     100.160142\n",
       "2            0     3     499.787149\n",
       "3            0     4    1672.999956\n",
       "4            0     5    1539.696725\n",
       "...        ...   ...            ...\n",
       "15509660  5566  5568    1086.421409\n",
       "15509661  5566  5569    2636.324098\n",
       "15509662  5567  5568    2033.605580\n",
       "15509663  5567  5569     727.783339\n",
       "15509664  5568  5569    2760.915335\n",
       "\n",
       "[15509665 rows x 3 columns]"
      ]
     },
     "execution_count": 19,
     "metadata": {},
     "output_type": "execute_result"
    }
   ],
   "source": [
    "distances_df_2"
   ]
  },
  {
   "cell_type": "markdown",
   "metadata": {},
   "source": [
    "PARTE 2: CALCULO CONSIDERANDO APENAS AS CAPITAIS"
   ]
  },
  {
   "cell_type": "code",
   "execution_count": 15,
   "metadata": {},
   "outputs": [],
   "source": [
    "# Capitais de interesse\n",
    "\n",
    "codigo_ibge_estados = [\n",
    "    \"1100205\", \"1302603\", \"1200401\", \"5002704\", \"1600303\", \"5300108\",\n",
    "    \"1400100\", \"5103403\", \"1721000\", \"3550308\", \"2211001\", \"3304557\",\n",
    "    \"1501402\", \"5208707\", \"2927408\", \"4205407\", \"2111300\", \"2704302\",\n",
    "    \"4314902\", \"4106902\", \"3106200\", \"2304400\", \"2611606\", \"2507507\",\n",
    "    \"2800308\", \"2408102\", \"3205309\"\n",
    "]"
   ]
  },
  {
   "cell_type": "code",
   "execution_count": 16,
   "metadata": {},
   "outputs": [],
   "source": [
    "# Para esta base especifica foi necessario ajustar o COD IBGE para 6 digitos\n",
    "distances_df['City1'] = distances_df['City1'].astype(str).str[:6]\n",
    "distances_df['City2'] = distances_df['City2'].astype(str).str[:6]"
   ]
  },
  {
   "cell_type": "code",
   "execution_count": 17,
   "metadata": {},
   "outputs": [
    {
     "name": "stdout",
     "output_type": "stream",
     "text": [
      "Empty DataFrame\n",
      "Columns: [City1, City2, Distance (km)]\n",
      "Index: []\n"
     ]
    }
   ],
   "source": [
    "# Converter a coluna 'City1' para tipo str\n",
    "distances_df['City1'] = distances_df['City1'].astype(str)\n",
    "\n",
    "# Filtrar as cidades na coluna 'City1' usando a lista de códigos IBGE de estados específicos\n",
    "filtered_distances_df = distances_df[distances_df['City1'].isin(codigo_ibge_estados)]\n",
    "\n",
    "# Exibir o DataFrame filtrado\n",
    "print(filtered_distances_df)"
   ]
  },
  {
   "cell_type": "code",
   "execution_count": 18,
   "metadata": {},
   "outputs": [
    {
     "name": "stdout",
     "output_type": "stream",
     "text": [
      "Empty DataFrame\n",
      "Columns: [City1, City2, Distance (km)]\n",
      "Index: []\n"
     ]
    }
   ],
   "source": [
    "# Encontrar os índices das linhas com as menores distâncias para cada 'City2'\n",
    "min_distance_indices = filtered_distances_df.groupby('City2')['Distance (km)'].idxmin()\n",
    "\n",
    "# Filtrar o DataFrame original usando os índices encontrados\n",
    "closest_distances_df = filtered_distances_df.loc[min_distance_indices]\n",
    "\n",
    "# Exibir o DataFrame com os menores valores de distância para cada 'City2'\n",
    "print(closest_distances_df)\n"
   ]
  },
  {
   "cell_type": "code",
   "execution_count": null,
   "metadata": {},
   "outputs": [],
   "source": []
  }
 ],
 "metadata": {
  "kernelspec": {
   "display_name": "Python 3",
   "language": "python",
   "name": "python3"
  },
  "language_info": {
   "codemirror_mode": {
    "name": "ipython",
    "version": 3
   },
   "file_extension": ".py",
   "mimetype": "text/x-python",
   "name": "python",
   "nbconvert_exporter": "python",
   "pygments_lexer": "ipython3",
   "version": "3.12.2"
  }
 },
 "nbformat": 4,
 "nbformat_minor": 2
}
